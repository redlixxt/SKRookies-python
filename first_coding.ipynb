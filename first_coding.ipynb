{
 "cells": [
  {
   "cell_type": "code",
   "execution_count": 1,
   "id": "2a95c41d",
   "metadata": {},
   "outputs": [
    {
     "name": "stdout",
     "output_type": "stream",
     "text": [
      "안녕하세요\n",
      "100\n"
     ]
    }
   ],
   "source": [
    "print('안녕하세요')\n",
    "print(100)"
   ]
  },
  {
   "cell_type": "code",
   "execution_count": 3,
   "id": "38ecdb15",
   "metadata": {},
   "outputs": [],
   "source": [
    "# 주석 => 코드 내부에 사용, 코드로 인식하지 않음, 간단한 메모\n",
    "# 변수 => 데이터를 저장(메모리: 플래시메모리, 램)하는 방식\n",
    "# 변수이름(식별자) = 값(데이터: 숫자, 문자열, 논리값(True, False), 객체)\n",
    "# 변수에는 데이터를 저장하고 있는 메모리의 주소값을 저장\n",
    "num = 10"
   ]
  },
  {
   "cell_type": "code",
   "execution_count": 4,
   "id": "10d7b805",
   "metadata": {},
   "outputs": [
    {
     "name": "stdout",
     "output_type": "stream",
     "text": [
      "10\n"
     ]
    }
   ],
   "source": [
    "print(num)"
   ]
  },
  {
   "cell_type": "code",
   "execution_count": 5,
   "id": "380349cc",
   "metadata": {},
   "outputs": [
    {
     "data": {
      "text/plain": [
       "140724707804360"
      ]
     },
     "execution_count": 5,
     "metadata": {},
     "output_type": "execute_result"
    }
   ],
   "source": [
    "id(num)"
   ]
  },
  {
   "cell_type": "code",
   "execution_count": 6,
   "id": "e8d5bb8d",
   "metadata": {},
   "outputs": [
    {
     "data": {
      "text/plain": [
       "110"
      ]
     },
     "execution_count": 6,
     "metadata": {},
     "output_type": "execute_result"
    }
   ],
   "source": [
    "num+100"
   ]
  },
  {
   "cell_type": "code",
   "execution_count": 7,
   "id": "b031fc84",
   "metadata": {},
   "outputs": [],
   "source": [
    "# 변수 = 데이터\n",
    "# 데이터 => 숫자, 문자, 논리값\n",
    "# 숫자 => 정수, 실수\n",
    "num1 = 10\n",
    "num2 = 3.14"
   ]
  },
  {
   "cell_type": "code",
   "execution_count": 10,
   "id": "bb56db1a",
   "metadata": {},
   "outputs": [
    {
     "name": "stdout",
     "output_type": "stream",
     "text": [
      "<class 'int'>\n",
      "<class 'float'>\n"
     ]
    }
   ],
   "source": [
    "print(type(num1))\n",
    "print(type(num2))"
   ]
  },
  {
   "cell_type": "code",
   "execution_count": 11,
   "id": "05b2295b",
   "metadata": {},
   "outputs": [],
   "source": [
    "num3 = 'hello~'"
   ]
  },
  {
   "cell_type": "code",
   "execution_count": 13,
   "id": "2b39203b",
   "metadata": {},
   "outputs": [
    {
     "name": "stdout",
     "output_type": "stream",
     "text": [
      "hello~\n",
      "<class 'str'>\n"
     ]
    }
   ],
   "source": [
    "print(num3)\n",
    "print(type(num3))"
   ]
  },
  {
   "cell_type": "code",
   "execution_count": 14,
   "id": "cf865412",
   "metadata": {},
   "outputs": [],
   "source": [
    "# 논리값 : 참, 거짓 => True, False\n",
    "check1 = True\n",
    "check2 = False"
   ]
  },
  {
   "cell_type": "code",
   "execution_count": 16,
   "id": "a8b0954e",
   "metadata": {},
   "outputs": [
    {
     "name": "stdout",
     "output_type": "stream",
     "text": [
      "True <class 'bool'>\n",
      "False <class 'bool'>\n"
     ]
    }
   ],
   "source": [
    "print(check1, type(check1))\n",
    "print(check2, type(check2))"
   ]
  },
  {
   "cell_type": "code",
   "execution_count": 17,
   "id": "fdb4c08e",
   "metadata": {},
   "outputs": [],
   "source": [
    "str_a = 'python'"
   ]
  },
  {
   "cell_type": "code",
   "execution_count": 19,
   "id": "0d470fca",
   "metadata": {},
   "outputs": [
    {
     "data": {
      "text/plain": [
       "'PYTHON'"
      ]
     },
     "execution_count": 19,
     "metadata": {},
     "output_type": "execute_result"
    }
   ],
   "source": [
    "str_a.upper()\n",
    "# 주소값.메서드()"
   ]
  },
  {
   "cell_type": "code",
   "execution_count": 20,
   "id": "1dab6054",
   "metadata": {},
   "outputs": [],
   "source": [
    "str_a = 100"
   ]
  },
  {
   "cell_type": "code",
   "execution_count": 22,
   "id": "2740db82",
   "metadata": {},
   "outputs": [
    {
     "name": "stdout",
     "output_type": "stream",
     "text": [
      "100 <class 'int'>\n"
     ]
    }
   ],
   "source": [
    "print(str_a, type(str_a))"
   ]
  },
  {
   "cell_type": "code",
   "execution_count": 33,
   "id": "4a783f75",
   "metadata": {},
   "outputs": [],
   "source": [
    "# 문자열 생성\n",
    "# ' ', \" \", ''' ''', \"\"\" \"\"\"\n",
    "str_1 = 'Hello!'\n",
    "str_2 = \"안녕하세요\"\n",
    "str_3 = '''\n",
    "안녕하세요\n",
    "반갑습니다\n",
    "'''\n",
    "str_4 = \"\"\"\n",
    "select *\n",
    "from emp\n",
    "where empno=10\n",
    "\"\"\""
   ]
  },
  {
   "cell_type": "code",
   "execution_count": 27,
   "id": "9cccc4b2",
   "metadata": {},
   "outputs": [
    {
     "name": "stdout",
     "output_type": "stream",
     "text": [
      "Hello <class 'str'>\n",
      "안녕하세요 <class 'str'>\n",
      "\n",
      "안녕하세요\n",
      "반갑습니다\n",
      " <class 'str'>\n",
      "\n",
      "select *\n",
      "from emp\n",
      "where empno=10\n",
      " <class 'str'>\n"
     ]
    }
   ],
   "source": [
    "print(str_1, type(str_1))\n",
    "print(str_2, type(str_2))\n",
    "print(str_3, type(str_3))\n",
    "print(str_4, type(str_4))"
   ]
  },
  {
   "cell_type": "code",
   "execution_count": null,
   "id": "6f212ac4",
   "metadata": {},
   "outputs": [
    {
     "name": "stdout",
     "output_type": "stream",
     "text": [
      "hello python!!\n",
      "==========\n"
     ]
    }
   ],
   "source": [
    "# 문자열의 연산\n",
    "# 사칙연산 X => 더하기(연결)\n",
    "# 곱셈 * => 반복 (몇 번 반복)\n",
    "print('hello'+' python!!')\n",
    "print('=' * 10)"
   ]
  },
  {
   "cell_type": "code",
   "execution_count": 34,
   "id": "08987489",
   "metadata": {},
   "outputs": [
    {
     "name": "stdout",
     "output_type": "stream",
     "text": [
      "6\n",
      "5\n"
     ]
    }
   ],
   "source": [
    "# 함수 : 데이터 전달 => 처리(연산) => 값 반환\n",
    "# 문자열의 길이 반환 : len(변수: 시퀀스 형식 데이터)\n",
    "print(len(str_1))\n",
    "print(len(str_2))"
   ]
  },
  {
   "cell_type": "code",
   "execution_count": 35,
   "id": "12ce1ff6",
   "metadata": {},
   "outputs": [],
   "source": [
    "# 문자열 : 시퀀스 데이터 => 순서 있음\n",
    "# 시퀀스 데이터의 데이터들의 구분 => index\n",
    "# hello => ['h', 'e', 'l', 'l', 'o']\n",
    "# index => 0 1 2 3 4 => 0 ~ N-1 => 0~4\n",
    "str_5 = 'hello~ python!!'"
   ]
  },
  {
   "cell_type": "code",
   "execution_count": 37,
   "id": "31216f84",
   "metadata": {},
   "outputs": [
    {
     "data": {
      "text/plain": [
       "'~'"
      ]
     },
     "execution_count": 37,
     "metadata": {},
     "output_type": "execute_result"
    }
   ],
   "source": [
    "str_5[5]"
   ]
  },
  {
   "cell_type": "code",
   "execution_count": null,
   "id": "4f145388",
   "metadata": {},
   "outputs": [
    {
     "data": {
      "text/plain": [
       "'hello'"
      ]
     },
     "execution_count": 38,
     "metadata": {},
     "output_type": "execute_result"
    }
   ],
   "source": [
    "# 문자열(시퀀스)의 슬라이싱\n",
    "# s[시작 index : 종료 index] => 종료 index 값을 만나면 탈출\n",
    "# str_5[0 : 5]\n",
    "str_5[0 : 5]"
   ]
  },
  {
   "cell_type": "code",
   "execution_count": 41,
   "id": "88ff59a6",
   "metadata": {},
   "outputs": [
    {
     "name": "stdout",
     "output_type": "stream",
     "text": [
      "안녕하세요! 저는 손흥민입니다. 나이는 30 입니다.\n"
     ]
    }
   ],
   "source": [
    "# 문자열 포맷팅\n",
    "# 3.6 버전 이후 f\"\", 접두사 f 붙이고 포맷팅\n",
    "user_name = '손흥민'\n",
    "user_age = 30\n",
    "print(f'안녕하세요! 저는 {user_name}입니다. 나이는 {user_age} 입니다.')"
   ]
  },
  {
   "cell_type": "code",
   "execution_count": 42,
   "id": "22819ae4",
   "metadata": {},
   "outputs": [
    {
     "name": "stdout",
     "output_type": "stream",
     "text": [
      "내년에는 나이가 31살이 됩니다.\n"
     ]
    }
   ],
   "source": [
    "print(f'내년에는 나이가 {user_age+1}살이 됩니다.')"
   ]
  },
  {
   "cell_type": "code",
   "execution_count": 43,
   "id": "e7aa9dd7",
   "metadata": {},
   "outputs": [],
   "source": [
    "# 복합 대입 연산\n",
    "num = 1"
   ]
  },
  {
   "cell_type": "code",
   "execution_count": 44,
   "id": "6d8a4075",
   "metadata": {},
   "outputs": [],
   "source": [
    "num = num + 1"
   ]
  },
  {
   "cell_type": "code",
   "execution_count": 45,
   "id": "cd7babd6",
   "metadata": {},
   "outputs": [
    {
     "name": "stdout",
     "output_type": "stream",
     "text": [
      "2\n"
     ]
    }
   ],
   "source": [
    "print(num)"
   ]
  },
  {
   "cell_type": "code",
   "execution_count": 46,
   "id": "af9bc53c",
   "metadata": {},
   "outputs": [],
   "source": [
    "num += 1 # num = num + 1"
   ]
  },
  {
   "cell_type": "code",
   "execution_count": 47,
   "id": "ba18da19",
   "metadata": {},
   "outputs": [
    {
     "name": "stdout",
     "output_type": "stream",
     "text": [
      "3\n"
     ]
    }
   ],
   "source": [
    "print(num)"
   ]
  },
  {
   "cell_type": "code",
   "execution_count": 61,
   "id": "5638fd10",
   "metadata": {},
   "outputs": [
    {
     "name": "stdout",
     "output_type": "stream",
     "text": [
      "국어: 90\n",
      "영어: 75\n",
      "수학: 80\n",
      "총합: 245\n",
      "평균: 81\n"
     ]
    }
   ],
   "source": [
    "kor = 90\n",
    "eng = 75\n",
    "mat = 80\n",
    "print(f'국어: {kor}')\n",
    "print(f'영어: {eng}')\n",
    "print(f'수학: {mat}')\n",
    "print(f'총합: {kor+eng+mat}')\n",
    "print(f'평균: {int((kor+eng+mat)/3)}')"
   ]
  },
  {
   "cell_type": "markdown",
   "id": "e173d80d",
   "metadata": {},
   "source": [
    "### 연습문제 1\n",
    "과목별 점수, 총점, 평균 출력\n",
    "과목 : 국어, 영어, 수학"
   ]
  },
  {
   "cell_type": "code",
   "execution_count": null,
   "id": "65f49866",
   "metadata": {},
   "outputs": [],
   "source": [
    "# 1. 변수 선언, 초기화\n",
    "kor_score = 100     # 국어 점수\n",
    "eng_score = 70      # 영어 점수\n",
    "math_score = 80     # 수학 점수"
   ]
  },
  {
   "cell_type": "code",
   "execution_count": 65,
   "id": "5d410f04",
   "metadata": {},
   "outputs": [],
   "source": [
    "# 2. 연산 : 총점, 평균\n",
    "sum_score = kor_score + eng_score + math_score\n",
    "avg_score = sum_score / 3"
   ]
  },
  {
   "cell_type": "code",
   "execution_count": 68,
   "id": "a1700b66",
   "metadata": {},
   "outputs": [
    {
     "name": "stdout",
     "output_type": "stream",
     "text": [
      "국어 점수: 100, 영어 점수: 70, 수학 점수: 80\n",
      "총점: 250\n",
      "평균 점수: 83.33333333333333\n"
     ]
    }
   ],
   "source": [
    "# 3. 결과 출력\n",
    "print(f'국어 점수: {kor_score}, 영어 점수: {eng_score}, 수학 점수: {math_score}\\n총점: {sum_score}\\n평균 점수: {avg_score}')"
   ]
  },
  {
   "cell_type": "markdown",
   "id": "64e44005",
   "metadata": {},
   "source": [
    "### 연습문제 2"
   ]
  },
  {
   "cell_type": "code",
   "execution_count": 74,
   "id": "63dd1312",
   "metadata": {},
   "outputs": [],
   "source": [
    "# 성별 체크, 나이 체크\n",
    "# 성별이 남성이고(and), 성인 판별(18살 이상)\n",
    "# 1. 변수\n",
    "gender = 'M'    # 성별: 'M' | 'F'\n",
    "age = 20   "
   ]
  },
  {
   "cell_type": "code",
   "execution_count": 75,
   "id": "a2ec0c85",
   "metadata": {},
   "outputs": [],
   "source": [
    "# 2. 남성 그리고 성인\n",
    "check = gender == 'M' and age >= 18"
   ]
  },
  {
   "cell_type": "code",
   "execution_count": 76,
   "id": "73e5fe72",
   "metadata": {},
   "outputs": [
    {
     "name": "stdout",
     "output_type": "stream",
     "text": [
      "성인 남성 체크:  True\n"
     ]
    }
   ],
   "source": [
    "print('성인 남성 체크: ', check)"
   ]
  },
  {
   "cell_type": "markdown",
   "id": "b5743d1f",
   "metadata": {},
   "source": [
    "### 리스트, 튜플, 딕셔너리, 집합 2025.06.10"
   ]
  },
  {
   "cell_type": "code",
   "execution_count": 7,
   "id": "3874e200",
   "metadata": {},
   "outputs": [],
   "source": [
    "# 리스트 : [] => 순서를 가지는 데이터 묶음\n",
    "# index 값으로 요소들을 참조 => 0 ~ N(요소의 개수)-1\n",
    "list_a = [1,2,3]\n",
    "# index 0 1 2\n",
    "# 요소의 개수 : 3"
   ]
  },
  {
   "cell_type": "code",
   "execution_count": 8,
   "id": "360c8d78",
   "metadata": {},
   "outputs": [
    {
     "name": "stdout",
     "output_type": "stream",
     "text": [
      "[1, 2, 3] <class 'list'>\n"
     ]
    }
   ],
   "source": [
    "print(list_a, type(list_a))"
   ]
  },
  {
   "cell_type": "code",
   "execution_count": 9,
   "id": "ad62097a",
   "metadata": {},
   "outputs": [],
   "source": [
    "# bool(), int(), float(), str(), list()"
   ]
  },
  {
   "cell_type": "code",
   "execution_count": 10,
   "id": "b006e82f",
   "metadata": {},
   "outputs": [
    {
     "data": {
      "text/plain": [
       "3"
      ]
     },
     "execution_count": 10,
     "metadata": {},
     "output_type": "execute_result"
    }
   ],
   "source": [
    "# 요소의 참조 : 변수처럼 사용\n",
    "list_a[2]"
   ]
  },
  {
   "cell_type": "code",
   "execution_count": 13,
   "id": "cf672d0e",
   "metadata": {},
   "outputs": [
    {
     "data": {
      "text/plain": [
       "3"
      ]
     },
     "execution_count": 13,
     "metadata": {},
     "output_type": "execute_result"
    }
   ],
   "source": [
    "list_a[0] + list_a[1]   # 1 + 2"
   ]
  },
  {
   "cell_type": "code",
   "execution_count": 11,
   "id": "d179fc83",
   "metadata": {},
   "outputs": [],
   "source": [
    "list_a[2] = 4"
   ]
  },
  {
   "cell_type": "code",
   "execution_count": 12,
   "id": "94660729",
   "metadata": {},
   "outputs": [
    {
     "data": {
      "text/plain": [
       "[1, 2, 4]"
      ]
     },
     "execution_count": 12,
     "metadata": {},
     "output_type": "execute_result"
    }
   ],
   "source": [
    "list_a"
   ]
  },
  {
   "cell_type": "code",
   "execution_count": 15,
   "id": "fa4a5a20",
   "metadata": {},
   "outputs": [
    {
     "data": {
      "text/plain": [
       "2"
      ]
     },
     "execution_count": 15,
     "metadata": {},
     "output_type": "execute_result"
    }
   ],
   "source": [
    "list_a[-1]  # index 마지막부터 들어간다\n",
    "list_a[-2]"
   ]
  },
  {
   "cell_type": "code",
   "execution_count": 18,
   "id": "79b7bab2",
   "metadata": {},
   "outputs": [
    {
     "data": {
      "text/plain": [
       "4"
      ]
     },
     "execution_count": 18,
     "metadata": {},
     "output_type": "execute_result"
    }
   ],
   "source": [
    "list_a[len(list_a) - 1] # N-1"
   ]
  },
  {
   "cell_type": "code",
   "execution_count": 19,
   "id": "df70307b",
   "metadata": {},
   "outputs": [],
   "source": [
    "list_b = [1,2,3,['a', 'b', 'c']]\n",
    "# index : 0 1 2        3\n",
    "#       : [int, int, int, list]"
   ]
  },
  {
   "cell_type": "code",
   "execution_count": 20,
   "id": "d62665e1",
   "metadata": {},
   "outputs": [
    {
     "data": {
      "text/plain": [
       "4"
      ]
     },
     "execution_count": 20,
     "metadata": {},
     "output_type": "execute_result"
    }
   ],
   "source": [
    "len(list_b)"
   ]
  },
  {
   "cell_type": "code",
   "execution_count": 25,
   "id": "12709010",
   "metadata": {},
   "outputs": [
    {
     "name": "stdout",
     "output_type": "stream",
     "text": [
      "1\n",
      "2\n",
      "3\n",
      "['a', 'b', 'c']\n",
      "a b c\n"
     ]
    }
   ],
   "source": [
    "print(list_b[0])\n",
    "print(list_b[1])\n",
    "print(list_b[2])\n",
    "print(list_b[3]) # list\n",
    "print(list_b[3][0], list_b[3][1], list_b[3][2])\n",
    "# list를 가리키는 주소값[index]"
   ]
  },
  {
   "cell_type": "code",
   "execution_count": null,
   "id": "3ffea83a",
   "metadata": {},
   "outputs": [],
   "source": [
    "# 슬라이싱\n",
    "list_c = [1,2,3,4,5]\n",
    "#         0 1 2 3 4"
   ]
  },
  {
   "cell_type": "code",
   "execution_count": 31,
   "id": "9639c084",
   "metadata": {},
   "outputs": [
    {
     "data": {
      "text/plain": [
       "[1, 2, 3, 4, 5]"
      ]
     },
     "execution_count": 31,
     "metadata": {},
     "output_type": "execute_result"
    }
   ],
   "source": [
    "list_c[1:4]\n",
    "list_c[:4]  # list_c[0:4]\n",
    "list_c[1:]  # list_c[1:5]\n",
    "list_c[:]\n",
    "list_c"
   ]
  },
  {
   "cell_type": "code",
   "execution_count": 32,
   "id": "11b4d911",
   "metadata": {},
   "outputs": [],
   "source": [
    "# list의 연산 : + , *\n",
    "list_d = [100, 200, 300]"
   ]
  },
  {
   "cell_type": "code",
   "execution_count": 37,
   "id": "eb5f2da8",
   "metadata": {},
   "outputs": [
    {
     "data": {
      "text/plain": [
       "[100, 200, 300]"
      ]
     },
     "execution_count": 37,
     "metadata": {},
     "output_type": "execute_result"
    }
   ],
   "source": [
    "list_c\n",
    "list_d\n",
    "list_c + list_d # 새로운 리스트 생성\n",
    "list_d + list_c # 새로운 리스트 생성\n",
    "list_c\n",
    "list_d"
   ]
  },
  {
   "cell_type": "code",
   "execution_count": 38,
   "id": "f3fc2e08",
   "metadata": {},
   "outputs": [
    {
     "data": {
      "text/plain": [
       "[100, 200, 300, 100, 200, 300, 100, 200, 300]"
      ]
     },
     "execution_count": 38,
     "metadata": {},
     "output_type": "execute_result"
    }
   ],
   "source": [
    "# * : 리스트의 요소를 N번 반복해서 저장 => 새로운 리스트\n",
    "list_d * 3"
   ]
  },
  {
   "cell_type": "code",
   "execution_count": 39,
   "id": "d06e2075",
   "metadata": {},
   "outputs": [],
   "source": [
    "# 리스트에 요소(데이터) 추가 : 순서 => 마지막 인덱스 다음에 데이터를 추가\n",
    "# append() : 메서드 => 리스트의 마지막에 데이터 추가\n",
    "list_a = [1, 2, 3]"
   ]
  },
  {
   "cell_type": "code",
   "execution_count": 43,
   "id": "5162ce00",
   "metadata": {},
   "outputs": [],
   "source": [
    "list_a.append(500)\n",
    "# 객체(list)\n",
    "# 객체 안에 정의되어 있는 함수 ? 메서드"
   ]
  },
  {
   "cell_type": "code",
   "execution_count": 48,
   "id": "7529ca31",
   "metadata": {},
   "outputs": [
    {
     "data": {
      "text/plain": [
       "1"
      ]
     },
     "execution_count": 48,
     "metadata": {},
     "output_type": "execute_result"
    }
   ],
   "source": [
    "# pop : 마지막 요소 축출 => 삭제, 값을 반환\n",
    "# list_a.pop()    # SupportsIndex = -1    => 기본값을 -1로 가짐\n",
    "list_a.pop(0)"
   ]
  },
  {
   "cell_type": "code",
   "execution_count": 49,
   "id": "9cda57a5",
   "metadata": {},
   "outputs": [
    {
     "data": {
      "text/plain": [
       "[2, 3]"
      ]
     },
     "execution_count": 49,
     "metadata": {},
     "output_type": "execute_result"
    }
   ],
   "source": [
    "list_a"
   ]
  },
  {
   "cell_type": "code",
   "execution_count": 50,
   "id": "4b7b0f2f",
   "metadata": {},
   "outputs": [],
   "source": [
    "list_a = [1, 4, 9, 2, 10]"
   ]
  },
  {
   "cell_type": "code",
   "execution_count": 51,
   "id": "e89eb4c9",
   "metadata": {},
   "outputs": [],
   "source": [
    "list_a.sort()"
   ]
  },
  {
   "cell_type": "code",
   "execution_count": 52,
   "id": "e0b702a7",
   "metadata": {},
   "outputs": [
    {
     "data": {
      "text/plain": [
       "[1, 2, 4, 9, 10]"
      ]
     },
     "execution_count": 52,
     "metadata": {},
     "output_type": "execute_result"
    }
   ],
   "source": [
    "list_a"
   ]
  },
  {
   "cell_type": "code",
   "execution_count": 53,
   "id": "49bd0418",
   "metadata": {},
   "outputs": [
    {
     "data": {
      "text/plain": [
       "[10, 9, 4, 2, 1]"
      ]
     },
     "execution_count": 53,
     "metadata": {},
     "output_type": "execute_result"
    }
   ],
   "source": [
    "list_a.reverse()\n",
    "list_a"
   ]
  },
  {
   "cell_type": "code",
   "execution_count": 55,
   "id": "ab5bdc0c",
   "metadata": {},
   "outputs": [
    {
     "data": {
      "text/plain": [
       "2"
      ]
     },
     "execution_count": 55,
     "metadata": {},
     "output_type": "execute_result"
    }
   ],
   "source": [
    "list_a.index(4)"
   ]
  },
  {
   "cell_type": "code",
   "execution_count": 56,
   "id": "9a43b25a",
   "metadata": {},
   "outputs": [],
   "source": [
    "list_a.insert(1, 100)"
   ]
  },
  {
   "cell_type": "code",
   "execution_count": 57,
   "id": "faa8bbb9",
   "metadata": {},
   "outputs": [
    {
     "data": {
      "text/plain": [
       "[10, 100, 9, 4, 2, 1]"
      ]
     },
     "execution_count": 57,
     "metadata": {},
     "output_type": "execute_result"
    }
   ],
   "source": [
    "list_a"
   ]
  },
  {
   "cell_type": "code",
   "execution_count": null,
   "id": "576b3cb9",
   "metadata": {},
   "outputs": [],
   "source": [
    "list_a.extend(list_d)   # 원본 데이터 수정 => 원하지 않으면 + 처리를 하자"
   ]
  },
  {
   "cell_type": "code",
   "execution_count": 61,
   "id": "417a4e3e",
   "metadata": {},
   "outputs": [
    {
     "data": {
      "text/plain": [
       "[10, 100, 9, 4, 2, 1, 100, 200, 300]"
      ]
     },
     "execution_count": 61,
     "metadata": {},
     "output_type": "execute_result"
    }
   ],
   "source": [
    "list_a"
   ]
  },
  {
   "cell_type": "code",
   "execution_count": 63,
   "id": "85ce5d96",
   "metadata": {},
   "outputs": [
    {
     "name": "stdout",
     "output_type": "stream",
     "text": [
      "<class 'tuple'>\n"
     ]
    }
   ],
   "source": [
    "# tuple : list와 동일\n",
    "# 단 요소(데이터) 변경 불가능 => 데이터 안전하게 유지\n",
    "t_1 = ()\n",
    "print(type(t_1))"
   ]
  },
  {
   "cell_type": "code",
   "execution_count": null,
   "id": "4b3edd50",
   "metadata": {},
   "outputs": [],
   "source": [
    "t_2 = (1, 2, 3, 4)\n",
    "t_3 = 10, 20, 30, 40"
   ]
  },
  {
   "cell_type": "code",
   "execution_count": 67,
   "id": "8d99c9fe",
   "metadata": {},
   "outputs": [
    {
     "data": {
      "text/plain": [
       "tuple"
      ]
     },
     "execution_count": 67,
     "metadata": {},
     "output_type": "execute_result"
    }
   ],
   "source": [
    "type(t_3)"
   ]
  },
  {
   "cell_type": "code",
   "execution_count": 68,
   "id": "f407b64e",
   "metadata": {},
   "outputs": [
    {
     "data": {
      "text/plain": [
       "10"
      ]
     },
     "execution_count": 68,
     "metadata": {},
     "output_type": "execute_result"
    }
   ],
   "source": [
    "t_3[0]"
   ]
  },
  {
   "cell_type": "code",
   "execution_count": 70,
   "id": "fdf8c9f9",
   "metadata": {},
   "outputs": [
    {
     "data": {
      "text/plain": [
       "(20, 30)"
      ]
     },
     "execution_count": 70,
     "metadata": {},
     "output_type": "execute_result"
    }
   ],
   "source": [
    "t_3[1:3]"
   ]
  },
  {
   "cell_type": "code",
   "execution_count": null,
   "id": "c8b05199",
   "metadata": {},
   "outputs": [],
   "source": [
    "a, b, c = 1000, 2000, 3000  # 특정 함수에서 반환 데이터 tuple 타입"
   ]
  },
  {
   "cell_type": "code",
   "execution_count": 72,
   "id": "52c17c5c",
   "metadata": {},
   "outputs": [
    {
     "name": "stdout",
     "output_type": "stream",
     "text": [
      "1000 2000 3000\n"
     ]
    }
   ],
   "source": [
    "print(a, b, c)"
   ]
  },
  {
   "cell_type": "code",
   "execution_count": 73,
   "id": "bc5c7fad",
   "metadata": {},
   "outputs": [
    {
     "data": {
      "text/plain": [
       "(1, 2, 3, 4, 10, 20, 30, 40)"
      ]
     },
     "execution_count": 73,
     "metadata": {},
     "output_type": "execute_result"
    }
   ],
   "source": [
    "t_2 + t_3"
   ]
  },
  {
   "cell_type": "code",
   "execution_count": 74,
   "id": "efd90d31",
   "metadata": {},
   "outputs": [
    {
     "data": {
      "text/plain": [
       "(10, 20, 30, 40, 10, 20, 30, 40, 10, 20, 30, 40)"
      ]
     },
     "execution_count": 74,
     "metadata": {},
     "output_type": "execute_result"
    }
   ],
   "source": [
    "t_3 * 3"
   ]
  },
  {
   "cell_type": "code",
   "execution_count": 77,
   "id": "92fe49ea",
   "metadata": {},
   "outputs": [
    {
     "name": "stdout",
     "output_type": "stream",
     "text": [
      "<class 'dict'>\n",
      "{}\n"
     ]
    }
   ],
   "source": [
    "# 딕셔너리 : key : value => key 값으로 데이터를 참조\n",
    "# { key1 : value1, key2 : value2, ... }\n",
    "dict_1 = {}\n",
    "print(type(dict_1))\n",
    "print(dict_1)"
   ]
  },
  {
   "cell_type": "code",
   "execution_count": 78,
   "id": "f9f2c2cf",
   "metadata": {},
   "outputs": [
    {
     "name": "stdout",
     "output_type": "stream",
     "text": [
      "{1: 'a'}\n",
      "<class 'dict'>\n"
     ]
    }
   ],
   "source": [
    "dict_2 = {1 : 'a'}\n",
    "print(dict_2)\n",
    "print(type(dict_2))"
   ]
  },
  {
   "cell_type": "code",
   "execution_count": 79,
   "id": "7d6252d4",
   "metadata": {},
   "outputs": [
    {
     "data": {
      "text/plain": [
       "{1: 'a', 2: 'b'}"
      ]
     },
     "execution_count": 79,
     "metadata": {},
     "output_type": "execute_result"
    }
   ],
   "source": [
    "# 요소값 추가 => key 정의, 값 정의\n",
    "dict_2[2] = 'b'\n",
    "dict_2"
   ]
  },
  {
   "cell_type": "code",
   "execution_count": 81,
   "id": "208c5259",
   "metadata": {},
   "outputs": [
    {
     "data": {
      "text/plain": [
       "'b'"
      ]
     },
     "execution_count": 81,
     "metadata": {},
     "output_type": "execute_result"
    }
   ],
   "source": [
    "dict_2[2]"
   ]
  },
  {
   "cell_type": "code",
   "execution_count": 82,
   "id": "dc254c47",
   "metadata": {},
   "outputs": [],
   "source": [
    "dict_2[3] = (1,2,3)"
   ]
  },
  {
   "cell_type": "code",
   "execution_count": 84,
   "id": "8af42da0",
   "metadata": {},
   "outputs": [],
   "source": [
    "del dict_2[3]"
   ]
  },
  {
   "cell_type": "code",
   "execution_count": 85,
   "id": "53164f2b",
   "metadata": {},
   "outputs": [
    {
     "data": {
      "text/plain": [
       "{1: 'a', 2: 'b'}"
      ]
     },
     "execution_count": 85,
     "metadata": {},
     "output_type": "execute_result"
    }
   ],
   "source": [
    "dict_2"
   ]
  },
  {
   "cell_type": "code",
   "execution_count": 86,
   "id": "aa2a7e66",
   "metadata": {},
   "outputs": [],
   "source": [
    "# 학생 : 학번, 이름, 학년, 학과\n",
    "student_1 = {\n",
    "    's_no' : 1111,\n",
    "    's_name' : 'KING',\n",
    "    'grade' : 4,\n",
    "    'major' : 'COM'\n",
    "}"
   ]
  },
  {
   "cell_type": "code",
   "execution_count": 87,
   "id": "1bd6ef24",
   "metadata": {},
   "outputs": [
    {
     "data": {
      "text/plain": [
       "4"
      ]
     },
     "execution_count": 87,
     "metadata": {},
     "output_type": "execute_result"
    }
   ],
   "source": [
    "student_1['grade']"
   ]
  },
  {
   "cell_type": "code",
   "execution_count": 88,
   "id": "a7b79208",
   "metadata": {},
   "outputs": [],
   "source": [
    "player = {\n",
    "    'team' : 'TO',\n",
    "    'name' : 'SON',\n",
    "    'number' : 7\n",
    "}"
   ]
  },
  {
   "cell_type": "code",
   "execution_count": 89,
   "id": "bdb52163",
   "metadata": {},
   "outputs": [
    {
     "data": {
      "text/plain": [
       "dict_keys(['team', 'name', 'number'])"
      ]
     },
     "execution_count": 89,
     "metadata": {},
     "output_type": "execute_result"
    }
   ],
   "source": [
    "player.keys()"
   ]
  },
  {
   "cell_type": "code",
   "execution_count": 90,
   "id": "db0932f9",
   "metadata": {},
   "outputs": [
    {
     "data": {
      "text/plain": [
       "['team', 'name', 'number']"
      ]
     },
     "execution_count": 90,
     "metadata": {},
     "output_type": "execute_result"
    }
   ],
   "source": [
    "list(player.keys())"
   ]
  },
  {
   "cell_type": "code",
   "execution_count": 91,
   "id": "299221f1",
   "metadata": {},
   "outputs": [
    {
     "data": {
      "text/plain": [
       "dict_values(['TO', 'SON', 7])"
      ]
     },
     "execution_count": 91,
     "metadata": {},
     "output_type": "execute_result"
    }
   ],
   "source": [
    "player.values()"
   ]
  },
  {
   "cell_type": "code",
   "execution_count": 92,
   "id": "8f34460f",
   "metadata": {},
   "outputs": [
    {
     "data": {
      "text/plain": [
       "['TO', 'SON', 7]"
      ]
     },
     "execution_count": 92,
     "metadata": {},
     "output_type": "execute_result"
    }
   ],
   "source": [
    "list(player.values())"
   ]
  },
  {
   "cell_type": "code",
   "execution_count": 94,
   "id": "36ec9829",
   "metadata": {},
   "outputs": [
    {
     "data": {
      "text/plain": [
       "False"
      ]
     },
     "execution_count": 94,
     "metadata": {},
     "output_type": "execute_result"
    }
   ],
   "source": [
    "'name' in player\n",
    "'age' in player"
   ]
  },
  {
   "cell_type": "code",
   "execution_count": 98,
   "id": "d45d44fe",
   "metadata": {},
   "outputs": [
    {
     "data": {
      "text/plain": [
       "dict_items([('team', 'TO'), ('name', 'SON'), ('number', 7)])"
      ]
     },
     "execution_count": 98,
     "metadata": {},
     "output_type": "execute_result"
    }
   ],
   "source": [
    "player.items()"
   ]
  },
  {
   "cell_type": "code",
   "execution_count": 96,
   "id": "bff77c5f",
   "metadata": {},
   "outputs": [],
   "source": [
    "list_temp = list(player.items())"
   ]
  },
  {
   "cell_type": "code",
   "execution_count": 97,
   "id": "e333a473",
   "metadata": {},
   "outputs": [
    {
     "data": {
      "text/plain": [
       "[('team', 'TO'), ('name', 'SON'), ('number', 7)]"
      ]
     },
     "execution_count": 97,
     "metadata": {},
     "output_type": "execute_result"
    }
   ],
   "source": [
    "list_temp"
   ]
  },
  {
   "cell_type": "code",
   "execution_count": 99,
   "id": "40b887b9",
   "metadata": {},
   "outputs": [
    {
     "data": {
      "text/plain": [
       "'SON'"
      ]
     },
     "execution_count": 99,
     "metadata": {},
     "output_type": "execute_result"
    }
   ],
   "source": [
    "player['name']"
   ]
  },
  {
   "cell_type": "code",
   "execution_count": null,
   "id": "a6deade5",
   "metadata": {},
   "outputs": [],
   "source": [
    "pos = player.get('pos') # 키가 없을 때 반환하지 않음 => None"
   ]
  },
  {
   "cell_type": "code",
   "execution_count": 105,
   "id": "cf0b50a2",
   "metadata": {},
   "outputs": [
    {
     "name": "stdout",
     "output_type": "stream",
     "text": [
      "None\n"
     ]
    }
   ],
   "source": [
    "print(pos)"
   ]
  },
  {
   "cell_type": "code",
   "execution_count": 106,
   "id": "ba6f8bd2",
   "metadata": {},
   "outputs": [],
   "source": [
    "pos1 = player.get('pos', 'no pos')"
   ]
  },
  {
   "cell_type": "code",
   "execution_count": 107,
   "id": "e3aefc0e",
   "metadata": {},
   "outputs": [
    {
     "name": "stdout",
     "output_type": "stream",
     "text": [
      "no pos\n"
     ]
    }
   ],
   "source": [
    "print(pos1)"
   ]
  },
  {
   "cell_type": "code",
   "execution_count": 108,
   "id": "705f8242",
   "metadata": {},
   "outputs": [
    {
     "data": {
      "text/plain": [
       "{1, 2, 3, 4, 5}"
      ]
     },
     "execution_count": 108,
     "metadata": {},
     "output_type": "execute_result"
    }
   ],
   "source": [
    "# set : 집합 => 중복 X, 순서 X, 집합 연산 사용\n",
    "s_1 = set([1,2,3,4,1,2,5])\n",
    "s_1"
   ]
  },
  {
   "cell_type": "code",
   "execution_count": 110,
   "id": "fc18b10b",
   "metadata": {},
   "outputs": [
    {
     "data": {
      "text/plain": [
       "{'e', 'h', 'l', 'o'}"
      ]
     },
     "execution_count": 110,
     "metadata": {},
     "output_type": "execute_result"
    }
   ],
   "source": [
    "set_2 = set('hello')\n",
    "set_2"
   ]
  },
  {
   "cell_type": "code",
   "execution_count": 111,
   "id": "c59d78d3",
   "metadata": {},
   "outputs": [
    {
     "name": "stdout",
     "output_type": "stream",
     "text": [
      "[1, 2, 3, 4, 5]\n"
     ]
    }
   ],
   "source": [
    "list_1 = list(s_1)\n",
    "print(list_1)"
   ]
  },
  {
   "cell_type": "code",
   "execution_count": 112,
   "id": "05e1c270",
   "metadata": {},
   "outputs": [],
   "source": [
    "set_2 = set([1,2,3,4,5,6])\n",
    "set_3 = set([4,5,6,7,8,9])"
   ]
  },
  {
   "cell_type": "code",
   "execution_count": 115,
   "id": "cf57fb6c",
   "metadata": {},
   "outputs": [
    {
     "name": "stdout",
     "output_type": "stream",
     "text": [
      "{4, 5, 6}\n",
      "{1, 2, 3, 4, 5, 6, 7, 8, 9}\n",
      "{1, 2, 3}\n"
     ]
    }
   ],
   "source": [
    "print(set_2 & set_3)\n",
    "print(set_2 | set_3)\n",
    "print(set_2 - set_3)"
   ]
  },
  {
   "cell_type": "code",
   "execution_count": null,
   "id": "f020e7ec",
   "metadata": {},
   "outputs": [],
   "source": [
    "# set 에서 데이터 추가(중복 데이터 입력 X) 삭제\n",
    "set_2.add(7)"
   ]
  },
  {
   "cell_type": "code",
   "execution_count": 119,
   "id": "63a96d1f",
   "metadata": {},
   "outputs": [
    {
     "data": {
      "text/plain": [
       "{1, 2, 3, 4, 5, 6}"
      ]
     },
     "execution_count": 119,
     "metadata": {},
     "output_type": "execute_result"
    }
   ],
   "source": [
    "set_2"
   ]
  },
  {
   "cell_type": "code",
   "execution_count": 118,
   "id": "d37b373f",
   "metadata": {},
   "outputs": [],
   "source": [
    "set_2.remove(7)"
   ]
  },
  {
   "cell_type": "code",
   "execution_count": 120,
   "id": "762c3344",
   "metadata": {},
   "outputs": [],
   "source": [
    "set_2.update([1,1,3,4,7,8])"
   ]
  },
  {
   "cell_type": "code",
   "execution_count": 121,
   "id": "dc9e99cc",
   "metadata": {},
   "outputs": [
    {
     "data": {
      "text/plain": [
       "{1, 2, 3, 4, 5, 6, 7, 8}"
      ]
     },
     "execution_count": 121,
     "metadata": {},
     "output_type": "execute_result"
    }
   ],
   "source": [
    "set_2"
   ]
  },
  {
   "cell_type": "markdown",
   "id": "6aa8d0d0",
   "metadata": {},
   "source": [
    "### 조건문, 반복문"
   ]
  },
  {
   "cell_type": "code",
   "execution_count": 123,
   "id": "9c033a8e",
   "metadata": {},
   "outputs": [
    {
     "name": "stdout",
     "output_type": "stream",
     "text": [
      "환영합니다~~~\n",
      "게임을 시작하세요!\n"
     ]
    }
   ],
   "source": [
    "# if : 분기 => ~ 라면, 아니라면\n",
    "# 성인이라면, 성인이 아니라면\n",
    "age = 25\n",
    "\n",
    "# 성인이라면 -> 환영 메세지, 미성년 -> 킥~\n",
    "if age >= 18 :\n",
    "    print('환영합니다~~~')\n",
    "    print('게임을 시작하세요!')\n",
    "else :\n",
    "    print('킥~~~')"
   ]
  },
  {
   "cell_type": "code",
   "execution_count": 124,
   "id": "5ecacf11",
   "metadata": {},
   "outputs": [
    {
     "name": "stdout",
     "output_type": "stream",
     "text": [
      "홀수\n"
     ]
    }
   ],
   "source": [
    "# 홀수 짝수 판단 => 숫자%2 : 1->홀수, 0->짝수\n",
    "num = 9\n",
    "\n",
    "if num % 2 == 0 :\n",
    "    print('짝수')\n",
    "else :\n",
    "    print('홀수')"
   ]
  },
  {
   "cell_type": "code",
   "execution_count": 125,
   "id": "c7b089b7",
   "metadata": {},
   "outputs": [
    {
     "name": "stdout",
     "output_type": "stream",
     "text": [
      "0\n"
     ]
    }
   ],
   "source": [
    "# 양수 + => num1 > 0\n",
    "# 음수 - => num1 < 0\n",
    "# 0 => num1 == 0 => num1이 0보다 작지도 않고 크지도 않다\n",
    "\n",
    "num1 = 0\n",
    "if num1 > 0 :\n",
    "    print('양수')\n",
    "else :\n",
    "    if num1 < 0 :\n",
    "        print('음수')\n",
    "    else :\n",
    "        print(0)"
   ]
  },
  {
   "cell_type": "code",
   "execution_count": 128,
   "id": "3a44fc30",
   "metadata": {},
   "outputs": [
    {
     "name": "stdout",
     "output_type": "stream",
     "text": [
      "음수\n"
     ]
    }
   ],
   "source": [
    "if num1 > 0 :\n",
    "    print('양수')\n",
    "elif num1 < 0 :\n",
    "    print('음수')\n",
    "else :\n",
    "    print(0)"
   ]
  },
  {
   "cell_type": "code",
   "execution_count": 131,
   "id": "62b37538",
   "metadata": {},
   "outputs": [
    {
     "name": "stdout",
     "output_type": "stream",
     "text": [
      "FAIL\n"
     ]
    }
   ],
   "source": [
    "# 운전면허 시험\n",
    "score = 79\n",
    "check_msg = 'PASS' if score >= 80 else 'FAIL'\n",
    "print(check_msg)"
   ]
  },
  {
   "cell_type": "code",
   "execution_count": 133,
   "id": "a00dd666",
   "metadata": {},
   "outputs": [
    {
     "name": "stdout",
     "output_type": "stream",
     "text": [
      "FAIL\n"
     ]
    }
   ],
   "source": [
    "# 기본값을 정해놓고 안 되는 것만 잡아내는 방식\n",
    "check_msg = 'PASS'\n",
    "if score < 80 :\n",
    "    check_msg = 'FAIL'\n",
    "print(check_msg)"
   ]
  },
  {
   "cell_type": "code",
   "execution_count": 139,
   "id": "e3f4184b",
   "metadata": {},
   "outputs": [
    {
     "name": "stdout",
     "output_type": "stream",
     "text": [
      "100 <class 'str'> 1925\n"
     ]
    }
   ],
   "source": [
    "# 표준 출력 함수 => print()\n",
    "# 표준 입력 함수 => input()\n",
    "user_age = input('나이를 입력하세요!')\n",
    "print(user_age, type(user_age), 2025-int(user_age))"
   ]
  },
  {
   "cell_type": "code",
   "execution_count": 157,
   "id": "0e9d78e4",
   "metadata": {},
   "outputs": [
    {
     "name": "stdout",
     "output_type": "stream",
     "text": [
      "무료 예방접종 대상자입니다.\n"
     ]
    }
   ],
   "source": [
    "# 내가 짠 연습문제 코드\n",
    "p_age = input('나이를 입력해 주세요.')\n",
    "p_age = int(p_age)\n",
    "f_msg = \"무료 예방접종 대상자입니다.\" if p_age < 15 or p_age >= 65 else \"무료 예방접종 대상자가 아닙니다.\"\n",
    "print(f_msg)"
   ]
  },
  {
   "cell_type": "code",
   "execution_count": 149,
   "id": "de65b93b",
   "metadata": {},
   "outputs": [
    {
     "name": "stdout",
     "output_type": "stream",
     "text": [
      "접종 대상자 아님\n"
     ]
    }
   ],
   "source": [
    "if age < 15 or age >= 65 :\n",
    "    print('접종 대상자')\n",
    "else :\n",
    "    print('접종 대상자 아님')"
   ]
  },
  {
   "cell_type": "code",
   "execution_count": 150,
   "id": "3490eebd",
   "metadata": {},
   "outputs": [
    {
     "name": "stdout",
     "output_type": "stream",
     "text": [
      "대상자 아님\n"
     ]
    }
   ],
   "source": [
    "# 대상자가 아니라고 전제한 코드\n",
    "medical_msg = '대상자 아님'\n",
    "\n",
    "if age < 15 or age >= 65 :\n",
    "    medical_msg = '대상자'\n",
    "\n",
    "print(medical_msg)"
   ]
  },
  {
   "cell_type": "code",
   "execution_count": 151,
   "id": "174221eb",
   "metadata": {},
   "outputs": [
    {
     "name": "stdout",
     "output_type": "stream",
     "text": [
      "대상자 아님\n"
     ]
    }
   ],
   "source": [
    "medical_msg = '대상자' if age < 15 or age >= 65 else '대상자 아님'\n",
    "print(medical_msg)"
   ]
  },
  {
   "cell_type": "code",
   "execution_count": 158,
   "id": "38fe339a",
   "metadata": {},
   "outputs": [
    {
     "name": "stdout",
     "output_type": "stream",
     "text": [
      "1\n",
      "2\n",
      "3\n",
      "4\n",
      "5\n"
     ]
    }
   ],
   "source": [
    "# 반복문 : while condition(True/False) :\n",
    "# 조건식을 통해서 반복 => 탈출이 가능해야 한다!\n",
    "cnt = 0\n",
    "\n",
    "while cnt < 5 :\n",
    "    cnt = cnt + 1\n",
    "    print(cnt)"
   ]
  },
  {
   "cell_type": "code",
   "execution_count": 161,
   "id": "40da2a3c",
   "metadata": {},
   "outputs": [
    {
     "name": "stdout",
     "output_type": "stream",
     "text": [
      "1\n",
      "3\n",
      "5\n",
      "7\n",
      "9\n"
     ]
    }
   ],
   "source": [
    "# 1~10 까지 출력, 홀수만 출력\n",
    "cnt = 0\n",
    "while cnt < 10 :\n",
    "    cnt += 1 # cnt = cnt + 1\n",
    "    if cnt % 2 == 1 :\n",
    "        print(cnt)"
   ]
  },
  {
   "cell_type": "code",
   "execution_count": 162,
   "id": "be243990",
   "metadata": {},
   "outputs": [
    {
     "name": "stdout",
     "output_type": "stream",
     "text": [
      "1\n",
      "3\n",
      "5\n",
      "7\n",
      "9\n"
     ]
    }
   ],
   "source": [
    "cnt = 0\n",
    "while cnt < 10 :\n",
    "    cnt += 1\n",
    "    if cnt % 2 == 0 :\n",
    "        continue\n",
    "    print(cnt)"
   ]
  },
  {
   "cell_type": "code",
   "execution_count": 163,
   "id": "9e2c497f",
   "metadata": {},
   "outputs": [],
   "source": [
    "list_a = [1,2,3,4,5,100,200,300]"
   ]
  },
  {
   "cell_type": "code",
   "execution_count": 164,
   "id": "c93cec06",
   "metadata": {},
   "outputs": [
    {
     "name": "stdout",
     "output_type": "stream",
     "text": [
      "1\n",
      "2\n",
      "3\n",
      "4\n",
      "5\n",
      "100\n",
      "200\n",
      "300\n"
     ]
    }
   ],
   "source": [
    "for i in list_a :\n",
    "    print(i)"
   ]
  },
  {
   "cell_type": "code",
   "execution_count": 166,
   "id": "016ca4af",
   "metadata": {},
   "outputs": [],
   "source": [
    "list_b = [(1,2), (3,4), (5,6)]"
   ]
  },
  {
   "cell_type": "code",
   "execution_count": 167,
   "id": "99520001",
   "metadata": {},
   "outputs": [
    {
     "name": "stdout",
     "output_type": "stream",
     "text": [
      "1 2\n",
      "3 4\n",
      "5 6\n"
     ]
    }
   ],
   "source": [
    "for n1, n2 in list_b :\n",
    "    print(n1, n2)"
   ]
  },
  {
   "cell_type": "code",
   "execution_count": 174,
   "id": "c137fdd0",
   "metadata": {},
   "outputs": [
    {
     "name": "stdout",
     "output_type": "stream",
     "text": [
      "1 80 PASS\n",
      "2 50 FAIL\n",
      "3 70 PASS\n",
      "4 100 PASS\n",
      "5 55 FAIL\n",
      "총점 :  355\n",
      "평균 :  71.0\n"
     ]
    }
   ],
   "source": [
    "# 5명의 학생이 영어 시험 => 60점 이상 PASS 출력\n",
    "# 5명의 영어점수 총점, 평균\n",
    "scores = [80, 50, 70, 100, 55]\n",
    "num = 0     # 학생 리스트의 일련번호\n",
    "sum = 0     # 총점\n",
    "\n",
    "for score in scores :\n",
    "    # 학생의 점수를 비교해서 : PASS, FAIL\n",
    "    # 리스트의 일련번호 출력 : num = num + 1\n",
    "    num = num + 1\n",
    "    sum = sum + score\n",
    "    if score >= 60 :\n",
    "        print(num, score, 'PASS')\n",
    "    else :\n",
    "        print(num, score, 'FAIL')\n",
    "print('총점 : ', sum)\n",
    "print('평균 : ', sum / len(scores))"
   ]
  },
  {
   "cell_type": "code",
   "execution_count": 175,
   "id": "7b009841",
   "metadata": {},
   "outputs": [],
   "source": [
    "# range 함수 : 일련 번호 생성\n",
    "nums_1 = range(10)      # 0 ~ 10-1"
   ]
  },
  {
   "cell_type": "code",
   "execution_count": 177,
   "id": "c3ce64e5",
   "metadata": {},
   "outputs": [
    {
     "name": "stdout",
     "output_type": "stream",
     "text": [
      "0, 1, 2, 3, 4, 5, 6, 7, 8, 9, "
     ]
    }
   ],
   "source": [
    "for num in nums_1 :\n",
    "    print(num, end = ', ')"
   ]
  },
  {
   "cell_type": "code",
   "execution_count": 178,
   "id": "e5da2916",
   "metadata": {},
   "outputs": [
    {
     "name": "stdout",
     "output_type": "stream",
     "text": [
      "3 4 5 6 7 "
     ]
    }
   ],
   "source": [
    "for num in range (3, 8) :\n",
    "    print(num, end = ' ')"
   ]
  },
  {
   "cell_type": "code",
   "execution_count": 179,
   "id": "b54eaf1d",
   "metadata": {},
   "outputs": [
    {
     "name": "stdout",
     "output_type": "stream",
     "text": [
      "1 3 5 7 9 "
     ]
    }
   ],
   "source": [
    "for num in range(1, 11, 2) :\n",
    "    print(num, end = ' ')"
   ]
  },
  {
   "cell_type": "code",
   "execution_count": 184,
   "id": "69bdde47",
   "metadata": {},
   "outputs": [
    {
     "name": "stdout",
     "output_type": "stream",
     "text": [
      "2 단\n",
      "2X1=2 2X2=4 2X3=6 2X4=8 2X5=10 2X6=12 2X7=14 2X8=16 2X9=18 \n",
      "3 단\n",
      "3X1=3 3X2=6 3X3=9 3X4=12 3X5=15 3X6=18 3X7=21 3X8=24 3X9=27 \n",
      "4 단\n",
      "4X1=4 4X2=8 4X3=12 4X4=16 4X5=20 4X6=24 4X7=28 4X8=32 4X9=36 \n",
      "5 단\n",
      "5X1=5 5X2=10 5X3=15 5X4=20 5X5=25 5X6=30 5X7=35 5X8=40 5X9=45 \n",
      "6 단\n",
      "6X1=6 6X2=12 6X3=18 6X4=24 6X5=30 6X6=36 6X7=42 6X8=48 6X9=54 \n",
      "7 단\n",
      "7X1=7 7X2=14 7X3=21 7X4=28 7X5=35 7X6=42 7X7=49 7X8=56 7X9=63 \n",
      "8 단\n",
      "8X1=8 8X2=16 8X3=24 8X4=32 8X5=40 8X6=48 8X7=56 8X8=64 8X9=72 \n",
      "9 단\n",
      "9X1=9 9X2=18 9X3=27 9X4=36 9X5=45 9X6=54 9X7=63 9X8=72 9X9=81 \n"
     ]
    }
   ],
   "source": [
    "# 구구단 : 2~9단        => 2~9\n",
    "# 각 단 : X 1 ~ X 9     => 1~9\n",
    "for dan in range(2, 10) :\n",
    "    print(f'{dan} 단')\n",
    "    for i in range(1, 10) :\n",
    "        print(f'{dan}X{i}={dan*i}', end = ' ')\n",
    "    print()"
   ]
  },
  {
   "cell_type": "code",
   "execution_count": 185,
   "id": "e154d7c4",
   "metadata": {},
   "outputs": [],
   "source": [
    "# 리스트의 컴프리헨션\n",
    "# [표현식 for 변수 in list if 조건식]"
   ]
  },
  {
   "cell_type": "code",
   "execution_count": 188,
   "id": "89d40cfd",
   "metadata": {},
   "outputs": [
    {
     "name": "stdout",
     "output_type": "stream",
     "text": [
      "[3, 9]\n"
     ]
    }
   ],
   "source": [
    "list_2 = [1,2,3,4]\n",
    "\n",
    "# 결과 리스트\n",
    "list_result = []\n",
    "for num in list_2 :\n",
    "    if num%2 == 1 :\n",
    "        list_result.append(num*3)\n",
    "print(list_result)"
   ]
  },
  {
   "cell_type": "code",
   "execution_count": 189,
   "id": "eb3363f6",
   "metadata": {},
   "outputs": [
    {
     "name": "stdout",
     "output_type": "stream",
     "text": [
      "[3, 9]\n"
     ]
    }
   ],
   "source": [
    "list_result_2 = [num*3 for num in list_2 if num%2 == 1]\n",
    "print(list_result_2)"
   ]
  },
  {
   "cell_type": "code",
   "execution_count": 187,
   "id": "e3a1dfd9",
   "metadata": {},
   "outputs": [
    {
     "name": "stdout",
     "output_type": "stream",
     "text": [
      "[3, 6, 9, 12]\n"
     ]
    }
   ],
   "source": [
    "list_result_1 = [num*3 for num in list_2]\n",
    "print(list_result_1)"
   ]
  },
  {
   "cell_type": "markdown",
   "id": "fae8aea2",
   "metadata": {},
   "source": [
    "### 미니과제"
   ]
  },
  {
   "cell_type": "code",
   "execution_count": 206,
   "id": "b677ebd1",
   "metadata": {},
   "outputs": [
    {
     "name": "stdout",
     "output_type": "stream",
     "text": [
      "건강검진 대상자가 아닙니다.\n"
     ]
    }
   ],
   "source": [
    "# 특정 연도 건강검진 대상 여부 판별 및 검진 종류 확인 프로그램 작성\n",
    "this_year = input('올해 연도?')\n",
    "birth_year = input('태어난 연도?')\n",
    "\n",
    "this_year = int(this_year)\n",
    "birth_year = int(birth_year)\n",
    "\n",
    "if this_year-birth_year >= 20 :\n",
    "    if this_year%2 == birth_year%2 :\n",
    "        if this_year-birth_year >= 40 :\n",
    "            print('올해 건강검진 및 무료 암 검사 대상자입니다.')\n",
    "        else :\n",
    "            print('올해 건강검진 대상자입니다.')\n",
    "    else :\n",
    "        print('올해 건강검진 대상자가 아닙니다.')\n",
    "else :\n",
    "    print('건강검진 대상자가 아닙니다.')"
   ]
  },
  {
   "cell_type": "code",
   "execution_count": 212,
   "id": "605a5c33",
   "metadata": {},
   "outputs": [
    {
     "name": "stdout",
     "output_type": "stream",
     "text": [
      "3628800\n"
     ]
    }
   ],
   "source": [
    "# for 문을 이용하여 1부터 10까지를 곱한 결과를 출력하는 프로그램 작성\n",
    "\n",
    "rslt = 1\n",
    "for i in range(1, 11) :\n",
    "    rslt = rslt * i\n",
    "print(rslt)"
   ]
  },
  {
   "cell_type": "code",
   "execution_count": 222,
   "id": "988c0120",
   "metadata": {},
   "outputs": [
    {
     "name": "stdout",
     "output_type": "stream",
     "text": [
      "2단\n",
      "2X1=2 2X2=4 \n",
      "4단\n",
      "4X1=4 4X2=8 4X3=12 4X4=16 \n",
      "6단\n",
      "6X1=6 6X2=12 6X3=18 6X4=24 6X5=30 6X6=36 \n",
      "8단\n",
      "8X1=8 8X2=16 8X3=24 8X4=32 8X5=40 8X6=48 8X7=56 8X8=64 \n"
     ]
    }
   ],
   "source": [
    "# 구구단의 짝수 단(2,4,6,8)만 출력하는 프로그램 작성\n",
    "for i in range(1, 9) :\n",
    "    if i%2==0 :\n",
    "        print(f'{i}단')\n",
    "        even_num = i\n",
    "        for j in range(1, even_num + 1) :\n",
    "            print(f'{even_num}X{j}={even_num*j}', end=' ')\n",
    "        print()"
   ]
  },
  {
   "cell_type": "code",
   "execution_count": 225,
   "id": "47541c77",
   "metadata": {},
   "outputs": [
    {
     "name": "stdout",
     "output_type": "stream",
     "text": [
      "1055\n"
     ]
    }
   ],
   "source": [
    "# While문을 무한 루프로 구성하여 작성하는 예제\n",
    "num = 1\n",
    "rslt = 0\n",
    "while True :\n",
    "    if num%2==0 or num%3==0 :\n",
    "        rslt += num\n",
    "        if rslt > 1000 :\n",
    "            print(rslt)\n",
    "            break\n",
    "    num += 1"
   ]
  },
  {
   "cell_type": "markdown",
   "id": "b8b413dd",
   "metadata": {},
   "source": [
    "### 미니과제 답"
   ]
  },
  {
   "cell_type": "code",
   "execution_count": null,
   "id": "bb57c943",
   "metadata": {},
   "outputs": [],
   "source": [
    "# EX3\n",
    "# 검진 대상장 판별\n",
    "# 20세 이상, 짝수년도에는 짝수 년생들이 대상\n",
    "# 40세 이상 암 검진 대상\n",
    "# 올해 년도, 태어난 년도\n",
    "year = 2025\n",
    "birth_year = 1985\n",
    "age = year-birth_year\n",
    "print(age)\n",
    "\n",
    "if age >=20 and birth_year%2==year%2 :\n",
    "    print('검진 대상자입니다.')\n",
    "    if age >= 40 :\n",
    "        print('암 검진 대상자입니다.')\n",
    "else :\n",
    "    print('검진 대상자가 아닙니다.')"
   ]
  },
  {
   "cell_type": "code",
   "execution_count": 278,
   "id": "df932270",
   "metadata": {},
   "outputs": [
    {
     "name": "stdout",
     "output_type": "stream",
     "text": [
      "sum :  5050\n"
     ]
    }
   ],
   "source": [
    "# EX 3-1\n",
    "# 1부터 100까지의 합을 구하는 프로그램\n",
    "sum = 0\n",
    "for i in range(1, 101) :\n",
    "    #print(i, end = \",\")\n",
    "    sum += i\n",
    "print('sum : ', sum)"
   ]
  },
  {
   "cell_type": "code",
   "execution_count": 279,
   "id": "4a88b9ee",
   "metadata": {},
   "outputs": [
    {
     "name": "stdout",
     "output_type": "stream",
     "text": [
      "result :  3628800\n"
     ]
    }
   ],
   "source": [
    "# EX 3-2\n",
    "# 1부터 10까지의 곱을 구하는 프로그램\n",
    "result = 1\n",
    "for i in range(1, 11) :\n",
    "    result *= i\n",
    "print('result : ', result)"
   ]
  },
  {
   "cell_type": "code",
   "execution_count": 280,
   "id": "28f93db7",
   "metadata": {},
   "outputs": [
    {
     "name": "stdout",
     "output_type": "stream",
     "text": [
      "2 단\n",
      "2 x 1 = 2 2 x 2 = 4 \n",
      "4 단\n",
      "4 x 1 = 4 4 x 2 = 8 4 x 3 = 12 4 x 4 = 16 \n",
      "6 단\n",
      "6 x 1 = 6 6 x 2 = 12 6 x 3 = 18 6 x 4 = 24 6 x 5 = 30 6 x 6 = 36 \n",
      "8 단\n",
      "8 x 1 = 8 8 x 2 = 16 8 x 3 = 24 8 x 4 = 32 8 x 5 = 40 8 x 6 = 48 8 x 7 = 56 8 x 8 = 64 \n"
     ]
    }
   ],
   "source": [
    "# EX 3-3\n",
    "# 구구단의 짝수단(2, 4, 6, 8)단만 출력\n",
    "# 2x2, 4x4, 6x6, 8x8\n",
    "for dan in range(2, 9, 2) :\n",
    "    print(dan, '단')\n",
    "    for num in range(1, dan+1) :\n",
    "        print(dan, 'x', num, '=', dan*num, end=' ')\n",
    "    print()"
   ]
  },
  {
   "cell_type": "code",
   "execution_count": 284,
   "id": "c3a45349",
   "metadata": {},
   "outputs": [
    {
     "name": "stdout",
     "output_type": "stream",
     "text": [
      "56이 추가되었을 때 1000을 넘어갑니다. 1000을 넘긴 최초의 값은 1055입니다.\n"
     ]
    }
   ],
   "source": [
    "# while문의 무한 루프 사용\n",
    "# 1부터 시작해서 모든 짝수와 3의 배수를 더해서\n",
    "# 그 합이 언제 1000을 넘어서는지\n",
    "# 1000 넘어선 값은 얼마인지\n",
    "\n",
    "num = 1\n",
    "sum = 0\n",
    "\n",
    "while True :\n",
    "    # 합의 조건식\n",
    "    if num%2==0 or num%3==0 :\n",
    "        sum += num\n",
    "    # 탈출 조건\n",
    "    if sum > 1000 :\n",
    "        break\n",
    "    # 증가식\n",
    "    num += 1\n",
    "\n",
    "print (f'{num}이 추가되었을 때 1000을 넘어갑니다. 1000을 넘긴 최초의 값은 {sum}입니다.')"
   ]
  },
  {
   "cell_type": "markdown",
   "id": "e0be5464",
   "metadata": {},
   "source": [
    "### 함수 2025.06.11"
   ]
  },
  {
   "cell_type": "code",
   "execution_count": 228,
   "id": "e91cf2f2",
   "metadata": {},
   "outputs": [],
   "source": [
    "# 함수 : 데이터를 받고 처리(연산)하고 결과 반환하는 코드들의 묶음\n",
    "#       => 호출을 통해 코드를 실행\n",
    "# 중복코드를 줄일 수 있다 => 유지보수, 관리가 수월해진다!\n",
    "# def 함수이름(매개변수, 매개변수, 매개변수, ...) :\n",
    "#   처리작업 코드들...\n",
    "#   return 값(data : 파이썬에서 제공하는 타입의 모든 데이터)"
   ]
  },
  {
   "cell_type": "code",
   "execution_count": null,
   "id": "39d4469d",
   "metadata": {},
   "outputs": [],
   "source": [
    "# 함수 정의\n",
    "# 숫자 두 개를 받아 => 매개변수 : 선택사항\n",
    "# 덧셈연산을 하고   => 내부 처리 작업\n",
    "# 결과 값을 반환    => 반환 값 : 선택사항\n",
    "def add(n1, n2) :       # 함수 정의 : 이름, 매개변수\n",
    "    result = n1 + n2    # 연산, 처리, 작업\n",
    "    return result       # 결과 값 반환"
   ]
  },
  {
   "cell_type": "code",
   "execution_count": 232,
   "id": "94b63c62",
   "metadata": {},
   "outputs": [
    {
     "name": "stdout",
     "output_type": "stream",
     "text": [
      "<class 'function'>\n"
     ]
    }
   ],
   "source": [
    "print(type(add))"
   ]
  },
  {
   "cell_type": "code",
   "execution_count": 230,
   "id": "4e643f98",
   "metadata": {},
   "outputs": [
    {
     "data": {
      "text/plain": [
       "30"
      ]
     },
     "execution_count": 230,
     "metadata": {},
     "output_type": "execute_result"
    }
   ],
   "source": [
    "add(10, 20) # 호출 : 이름과 괄호()안에 매개변수가 받을 수 있는 데이터를 함께 전달"
   ]
  },
  {
   "cell_type": "code",
   "execution_count": 233,
   "id": "c8ea14f8",
   "metadata": {},
   "outputs": [
    {
     "data": {
      "text/plain": [
       "6"
      ]
     },
     "execution_count": 233,
     "metadata": {},
     "output_type": "execute_result"
    }
   ],
   "source": [
    "add(1, 5)"
   ]
  },
  {
   "cell_type": "code",
   "execution_count": 241,
   "id": "b000a922",
   "metadata": {},
   "outputs": [],
   "source": [
    "# 매개변수가 없는 함수\n",
    "def alert_msg() :\n",
    "    # ....\n",
    "    msg = '''\n",
    "    안녕하세요.\n",
    "    회원님.\n",
    "    반갑습니다. !!!\n",
    "    '''\n",
    "    return msg"
   ]
  },
  {
   "cell_type": "code",
   "execution_count": 242,
   "id": "e732b75a",
   "metadata": {},
   "outputs": [
    {
     "name": "stdout",
     "output_type": "stream",
     "text": [
      "\n",
      "    안녕하세요.\n",
      "    회원님.\n",
      "    반갑습니다. !!!\n",
      "    \n"
     ]
    }
   ],
   "source": [
    "print(alert_msg())"
   ]
  },
  {
   "cell_type": "code",
   "execution_count": 243,
   "id": "e06819f6",
   "metadata": {},
   "outputs": [],
   "source": [
    "# 매개변수는 있고, 반환값이 없는 함수\n",
    "# 숫자 두 개를 받아\n",
    "# 덧셈 연산의 결과를 출력하는 함수\n",
    "def add_print(n1, n2) :\n",
    "    result = n1 + n2\n",
    "    print(f'{n1}+{n2}={n1+n2}')"
   ]
  },
  {
   "cell_type": "code",
   "execution_count": 285,
   "id": "46095ae7",
   "metadata": {},
   "outputs": [
    {
     "name": "stdout",
     "output_type": "stream",
     "text": [
      "100+20=120\n"
     ]
    }
   ],
   "source": [
    "add_print(100, 20)"
   ]
  },
  {
   "cell_type": "code",
   "execution_count": 245,
   "id": "875eb319",
   "metadata": {},
   "outputs": [
    {
     "name": "stdout",
     "output_type": "stream",
     "text": [
      "10+200=210\n"
     ]
    }
   ],
   "source": [
    "result_add_print = add_print(10, 200)"
   ]
  },
  {
   "cell_type": "code",
   "execution_count": 246,
   "id": "4b4d0517",
   "metadata": {},
   "outputs": [
    {
     "name": "stdout",
     "output_type": "stream",
     "text": [
      "None\n"
     ]
    }
   ],
   "source": [
    "print(result_add_print) # 반환 값이 없으면 None 반환"
   ]
  },
  {
   "cell_type": "code",
   "execution_count": 247,
   "id": "3279cd20",
   "metadata": {},
   "outputs": [],
   "source": [
    "# 매개변수도 없고, 반환도 없는 함수\n",
    "def display_menu() :\n",
    "    menu = '''\n",
    "    1. 아메리카노\n",
    "    2. 라떼\n",
    "    3. 에스프레소\n",
    "    '''\n",
    "    print(menu)"
   ]
  },
  {
   "cell_type": "code",
   "execution_count": 248,
   "id": "641d6e66",
   "metadata": {},
   "outputs": [
    {
     "name": "stdout",
     "output_type": "stream",
     "text": [
      "\n",
      "    1. 아메리카노\n",
      "    2. 라떼\n",
      "    3. 에스프레소\n",
      "    \n"
     ]
    }
   ],
   "source": [
    "display_menu()"
   ]
  },
  {
   "cell_type": "code",
   "execution_count": 249,
   "id": "74a41d15",
   "metadata": {},
   "outputs": [
    {
     "data": {
      "text/plain": [
       "5"
      ]
     },
     "execution_count": 249,
     "metadata": {},
     "output_type": "execute_result"
    }
   ],
   "source": [
    "len('hello')"
   ]
  },
  {
   "cell_type": "code",
   "execution_count": 250,
   "id": "4c91726d",
   "metadata": {},
   "outputs": [],
   "source": [
    "def sub(n1, n2) :\n",
    "    return n1 - n2"
   ]
  },
  {
   "cell_type": "code",
   "execution_count": 251,
   "id": "0eef6ca5",
   "metadata": {},
   "outputs": [
    {
     "data": {
      "text/plain": [
       "7"
      ]
     },
     "execution_count": 251,
     "metadata": {},
     "output_type": "execute_result"
    }
   ],
   "source": [
    "sub(n2=3, n1=10)"
   ]
  },
  {
   "cell_type": "code",
   "execution_count": 254,
   "id": "5a124cdc",
   "metadata": {},
   "outputs": [
    {
     "name": "stdout",
     "output_type": "stream",
     "text": [
      "KING\thello\thi~!!\n"
     ]
    }
   ],
   "source": [
    "print('KING', 'hello', sep = '\\t', end = '\\t')\n",
    "print('hi~!!')"
   ]
  },
  {
   "cell_type": "code",
   "execution_count": 256,
   "id": "b57d2409",
   "metadata": {},
   "outputs": [
    {
     "name": "stdout",
     "output_type": "stream",
     "text": [
      "king\n",
      "1 2 3 4 5\n"
     ]
    }
   ],
   "source": [
    "# 매개변수가 여러 개인데 몇 개인지 몰라 ?!\n",
    "print('king')\n",
    "print(1,2,3,4,5)"
   ]
  },
  {
   "cell_type": "code",
   "execution_count": null,
   "id": "0c8202db",
   "metadata": {},
   "outputs": [],
   "source": [
    "# 매개변수에서 전달되는 숫자들(몇 개?)을\n",
    "# 모두 더한 값을\n",
    "# 반환하는 함수\n",
    "def add_sum(*args) :    # 가변매개변수 ? 튜플로 받음\n",
    "    print(type(args))\n",
    "    print(args)\n",
    "    sum = 0\n",
    "    for num in args :\n",
    "        sum += num\n",
    "    return sum"
   ]
  },
  {
   "cell_type": "code",
   "execution_count": 263,
   "id": "2fce2797",
   "metadata": {},
   "outputs": [
    {
     "name": "stdout",
     "output_type": "stream",
     "text": [
      "<class 'tuple'>\n",
      "(1, 2, 3, 4, 5, 6, 7, 8, 9, 10)\n"
     ]
    },
    {
     "data": {
      "text/plain": [
       "55"
      ]
     },
     "execution_count": 263,
     "metadata": {},
     "output_type": "execute_result"
    }
   ],
   "source": [
    "add_sum(1,2,3,4,5,6,7,8,9,10)"
   ]
  },
  {
   "cell_type": "code",
   "execution_count": 264,
   "id": "09d64c10",
   "metadata": {},
   "outputs": [],
   "source": [
    "# 연산의 타입을 전달 받고 전달되는 숫자들을\n",
    "# 연산한 결과를\n",
    "# 반환하는 함수\n",
    "def add_type(type, *args) :\n",
    "    # add, mul\n",
    "    if type=='add' :\n",
    "        result = 0  # 내부에서 변수 선언됨\n",
    "        for num in args :\n",
    "            result += num\n",
    "        return result\n",
    "    elif type =='mul' :\n",
    "        result = 1\n",
    "        for num in args :\n",
    "            result *= num\n",
    "        return result\n",
    "    else :\n",
    "        print('사용 가능한 타입을 입력해 주세요!')"
   ]
  },
  {
   "cell_type": "code",
   "execution_count": 268,
   "id": "b689461e",
   "metadata": {},
   "outputs": [
    {
     "name": "stdout",
     "output_type": "stream",
     "text": [
      "사용 가능한 타입을 입력해 주세요!\n"
     ]
    }
   ],
   "source": [
    "add_type('add', 1,2,3,4,5,6,7,8,9)\n",
    "add_type('mul', 1,2,3,4)\n",
    "add_type('sub', 1,2,3,4)"
   ]
  },
  {
   "cell_type": "code",
   "execution_count": 272,
   "id": "76433191",
   "metadata": {},
   "outputs": [],
   "source": [
    "def print_args(**args) :\n",
    "    print(args)\n",
    "    print(type(args))\n",
    "    return args"
   ]
  },
  {
   "cell_type": "code",
   "execution_count": 270,
   "id": "a1106a09",
   "metadata": {},
   "outputs": [
    {
     "name": "stdout",
     "output_type": "stream",
     "text": [
      "{'name': '손흥민', 'age': 20}\n",
      "<class 'dict'>\n"
     ]
    }
   ],
   "source": [
    "print_args(name='손흥민', age=20)"
   ]
  },
  {
   "cell_type": "code",
   "execution_count": 271,
   "id": "be30d4f4",
   "metadata": {},
   "outputs": [],
   "source": [
    "player1 = {\n",
    "    'name' : '손흥민',\n",
    "    'age' : 20\n",
    "}"
   ]
  },
  {
   "cell_type": "code",
   "execution_count": 273,
   "id": "1e5e4e21",
   "metadata": {},
   "outputs": [
    {
     "name": "stdout",
     "output_type": "stream",
     "text": [
      "{'name': '메시', 'age': '30'}\n",
      "<class 'dict'>\n"
     ]
    }
   ],
   "source": [
    "player2 = print_args(name='메시', age='30')"
   ]
  },
  {
   "cell_type": "code",
   "execution_count": 274,
   "id": "bbb5cae0",
   "metadata": {},
   "outputs": [
    {
     "name": "stdout",
     "output_type": "stream",
     "text": [
      "{'name': '손흥민', 'age': 20}\n",
      "{'name': '메시', 'age': '30'}\n"
     ]
    }
   ],
   "source": [
    "print(player1)\n",
    "print(player2)"
   ]
  },
  {
   "cell_type": "code",
   "execution_count": 275,
   "id": "efa39639",
   "metadata": {},
   "outputs": [],
   "source": [
    "def add_mul_return(n1, n2) :\n",
    "    add_result = n1 + n2\n",
    "    mul_result = n1 * n2\n",
    "    return (add_result, mul_result)"
   ]
  },
  {
   "cell_type": "code",
   "execution_count": 277,
   "id": "f3ac2f68",
   "metadata": {},
   "outputs": [
    {
     "name": "stdout",
     "output_type": "stream",
     "text": [
      "30 200\n"
     ]
    }
   ],
   "source": [
    "result1, result2 = add_mul_return(10, 20)  # return : 튜플 형식\n",
    "print(result1, result2)"
   ]
  },
  {
   "cell_type": "code",
   "execution_count": 286,
   "id": "d378e2f3",
   "metadata": {},
   "outputs": [],
   "source": [
    "# 매개변수의 기본값 설정\n",
    "def add2(n1=0, n2=0) :\n",
    "    return n1+n2"
   ]
  },
  {
   "cell_type": "code",
   "execution_count": 289,
   "id": "f83bfed4",
   "metadata": {},
   "outputs": [
    {
     "data": {
      "text/plain": [
       "1"
      ]
     },
     "execution_count": 289,
     "metadata": {},
     "output_type": "execute_result"
    }
   ],
   "source": [
    "add2(1)"
   ]
  },
  {
   "cell_type": "code",
   "execution_count": 290,
   "id": "7ee1f0e6",
   "metadata": {},
   "outputs": [],
   "source": [
    "# 이름, 나이, 성별 받아서 출력 함수\n",
    "def say_hi(name, age, gender=True) :    # Gender=True => 여성\n",
    "    print(f'안녕하세요. 저는 {name}입니다. 나이는 {age} 입니다.')\n",
    "    if gender :\n",
    "        print('여성입니다.')\n",
    "    else :\n",
    "        print('남성입니다.')"
   ]
  },
  {
   "cell_type": "code",
   "execution_count": 292,
   "id": "5e9da1a0",
   "metadata": {},
   "outputs": [
    {
     "name": "stdout",
     "output_type": "stream",
     "text": [
      "안녕하세요. 저는 king입니다. 나이는 20 입니다.\n",
      "남성입니다.\n"
     ]
    }
   ],
   "source": [
    "say_hi('king', 20, False)"
   ]
  },
  {
   "cell_type": "code",
   "execution_count": null,
   "id": "c16df484",
   "metadata": {},
   "outputs": [],
   "source": [
    "# 변수의 사용 범위\n",
    "a = 1\n",
    "def var_test(a) :   # 지역변수 => 이름이 같은 경우 지역변수가 우선이 됨\n",
    "    print('함수 내부의 a : ', a)"
   ]
  },
  {
   "cell_type": "code",
   "execution_count": 294,
   "id": "3693d18e",
   "metadata": {},
   "outputs": [
    {
     "name": "stdout",
     "output_type": "stream",
     "text": [
      "함수 내부의 a :  10\n"
     ]
    }
   ],
   "source": [
    "var_test(10)"
   ]
  },
  {
   "cell_type": "code",
   "execution_count": 295,
   "id": "06f85927",
   "metadata": {},
   "outputs": [
    {
     "name": "stdout",
     "output_type": "stream",
     "text": [
      "1\n"
     ]
    }
   ],
   "source": [
    "print(a)"
   ]
  },
  {
   "cell_type": "code",
   "execution_count": null,
   "id": "c839e850",
   "metadata": {},
   "outputs": [],
   "source": [
    "def var_test2() :\n",
    "    # 외부의 함수를 연산해야 하는 경우 global 키워드 사용 => 참조는 안 해도 가능\n",
    "    # global 사용을 추천하진 않음\n",
    "    global a\n",
    "    a = a + 1\n",
    "    print(a)"
   ]
  },
  {
   "cell_type": "code",
   "execution_count": 301,
   "id": "b923fbde",
   "metadata": {},
   "outputs": [
    {
     "name": "stdout",
     "output_type": "stream",
     "text": [
      "2\n"
     ]
    }
   ],
   "source": [
    "var_test2()"
   ]
  },
  {
   "cell_type": "code",
   "execution_count": 302,
   "id": "82152829",
   "metadata": {},
   "outputs": [
    {
     "name": "stdout",
     "output_type": "stream",
     "text": [
      "2\n"
     ]
    }
   ],
   "source": [
    "print(a)"
   ]
  },
  {
   "cell_type": "code",
   "execution_count": 304,
   "id": "e9ef31b4",
   "metadata": {},
   "outputs": [],
   "source": [
    "# lambda 함수 => 한 줄로 간단하게 표현하는 함수 표현식\n",
    "# 함수이름 = lambda arg1, arg2 ... : 연산\n",
    "# 숫자 두 개를 전달받아 덧셈한 결과를 반환하는 함수\n",
    "add3 = lambda n1, n2 : n1+n2"
   ]
  },
  {
   "cell_type": "code",
   "execution_count": 305,
   "id": "d6cdce56",
   "metadata": {},
   "outputs": [
    {
     "data": {
      "text/plain": [
       "110"
      ]
     },
     "execution_count": 305,
     "metadata": {},
     "output_type": "execute_result"
    }
   ],
   "source": [
    "add3(100, 10)"
   ]
  },
  {
   "cell_type": "code",
   "execution_count": 306,
   "id": "4736badf",
   "metadata": {},
   "outputs": [
    {
     "data": {
      "text/plain": [
       "function"
      ]
     },
     "execution_count": 306,
     "metadata": {},
     "output_type": "execute_result"
    }
   ],
   "source": [
    "type(add3)"
   ]
  },
  {
   "cell_type": "code",
   "execution_count": 307,
   "id": "4437b707",
   "metadata": {},
   "outputs": [],
   "source": [
    "# 내장함수 : 파이썬 설치 => 기본으로 제공하는 함수\n",
    "st_names = ['king', 'cool', 'hot', 'scott']"
   ]
  },
  {
   "cell_type": "code",
   "execution_count": 309,
   "id": "a520e40b",
   "metadata": {},
   "outputs": [
    {
     "name": "stdout",
     "output_type": "stream",
     "text": [
      "0 king\n",
      "1 cool\n",
      "2 hot\n",
      "3 scott\n"
     ]
    }
   ],
   "source": [
    "# 학생들의 index 값을 함께 출력\n",
    "num = 0\n",
    "for name in st_names :\n",
    "    print(num, name)\n",
    "    num += 1"
   ]
  },
  {
   "cell_type": "code",
   "execution_count": 311,
   "id": "f575fde6",
   "metadata": {},
   "outputs": [
    {
     "name": "stdout",
     "output_type": "stream",
     "text": [
      "10 king\n",
      "11 cool\n",
      "12 hot\n",
      "13 scott\n"
     ]
    }
   ],
   "source": [
    "for index, name in enumerate(st_names, start=10) :\n",
    "    print(index, name)"
   ]
  },
  {
   "cell_type": "code",
   "execution_count": 312,
   "id": "0fd8f569",
   "metadata": {},
   "outputs": [],
   "source": [
    "# filter : 필터링(매개변수로 전달되는 함수 : 요소값을 판단해서 논리값 반환)을 통해 새로운 리스트를 생성 반환\n",
    "# filter(fn, itr)\n",
    "def positive(l) :\n",
    "    result = []\n",
    "    for n in l :\n",
    "        if n > 0 :\n",
    "            result.append(n)\n",
    "    return result"
   ]
  },
  {
   "cell_type": "code",
   "execution_count": 313,
   "id": "66b48087",
   "metadata": {},
   "outputs": [
    {
     "data": {
      "text/plain": [
       "[3, 1, 9, 10, 4]"
      ]
     },
     "execution_count": 313,
     "metadata": {},
     "output_type": "execute_result"
    }
   ],
   "source": [
    "positive([3,1,-1,-3,0,9,10,4])"
   ]
  },
  {
   "cell_type": "code",
   "execution_count": 314,
   "id": "d500743f",
   "metadata": {},
   "outputs": [],
   "source": [
    "# filter\n",
    "# 판별함수\n",
    "def positive_fn(x) :\n",
    "    return x > 0"
   ]
  },
  {
   "cell_type": "code",
   "execution_count": null,
   "id": "6acb6e1a",
   "metadata": {},
   "outputs": [],
   "source": [
    "def pos_fn2(x) :\n",
    "    return x%2==1   # True 혹은 False 나오게 하면 돼 => filter는 그래야 해"
   ]
  },
  {
   "cell_type": "code",
   "execution_count": 318,
   "id": "acd9259b",
   "metadata": {},
   "outputs": [
    {
     "data": {
      "text/plain": [
       "[3, 1, -1, -3, 9]"
      ]
     },
     "execution_count": 318,
     "metadata": {},
     "output_type": "execute_result"
    }
   ],
   "source": [
    "list(filter(pos_fn2, [3,1,-1,-3,0,9,10,4]))"
   ]
  },
  {
   "cell_type": "code",
   "execution_count": 320,
   "id": "79cb61c3",
   "metadata": {},
   "outputs": [
    {
     "data": {
      "text/plain": [
       "[3, 1, -1, -3, 9]"
      ]
     },
     "execution_count": 320,
     "metadata": {},
     "output_type": "execute_result"
    }
   ],
   "source": [
    "list(filter(lambda x : x%2==1, [3,1,-1,-3,0,9,10,4]))"
   ]
  },
  {
   "cell_type": "code",
   "execution_count": 323,
   "id": "b914c332",
   "metadata": {},
   "outputs": [
    {
     "data": {
      "text/plain": [
       "[2, 4, 6, 8, 10]"
      ]
     },
     "execution_count": 323,
     "metadata": {},
     "output_type": "execute_result"
    }
   ],
   "source": [
    "list(map(lambda x : x*2, [1,2,3,4,5]))"
   ]
  },
  {
   "cell_type": "code",
   "execution_count": null,
   "id": "c48254f5",
   "metadata": {},
   "outputs": [],
   "source": [
    "# 파이썬의 입출력(자원)\n",
    "# 표준 입출력 => input, print\n",
    "# 텍스트 파일(자원) : 입출력 I/O\n",
    "# 파일 단위 입출력 : open(자원경로, 모드) 모드 => r(read), w(write), a(append)\n",
    "f = open('new_text.txt', 'w')\n",
    "f.close()"
   ]
  },
  {
   "cell_type": "code",
   "execution_count": 330,
   "id": "0ef30de0",
   "metadata": {},
   "outputs": [],
   "source": [
    "f = open('new_text.txt', 'w')   # 1. 파일 오픈 : w\n",
    "f.write('안녕하세요!!!')   # 2. 텍스트 쓰기\n",
    "f.close()"
   ]
  },
  {
   "cell_type": "code",
   "execution_count": null,
   "id": "ebc486da",
   "metadata": {},
   "outputs": [],
   "source": [
    "f = open('new_text.txt', 'w')\n",
    "for i in range(1, 11) :\n",
    "    f.write(f'{i}번째 줄 입력\\n')   # \\n => 하단 cell 결과에도 반영이 되어있음\n",
    "f.close()"
   ]
  },
  {
   "cell_type": "code",
   "execution_count": 337,
   "id": "e2f683ab",
   "metadata": {},
   "outputs": [
    {
     "name": "stdout",
     "output_type": "stream",
     "text": [
      "1번째 줄 입력\n",
      "\n",
      "2번째 줄 입력\n",
      "\n"
     ]
    }
   ],
   "source": [
    "# 파일 내용 읽어오기\n",
    "f = open('new_text.txt', 'r')   # 1. 파일 열고, Read => r\n",
    "line1 = f.readline()    # 첫 번째 줄 출력 후 반환\n",
    "print(line1)\n",
    "line2 = f.readline()    # 두 번째 줄로 커서 이동되었기 때문에 두 번째 줄 출력\n",
    "print(line2)\n",
    "f.close()"
   ]
  },
  {
   "cell_type": "code",
   "execution_count": 338,
   "id": "27931336",
   "metadata": {},
   "outputs": [
    {
     "name": "stdout",
     "output_type": "stream",
     "text": [
      "1번째 줄 입력\n",
      " 2번째 줄 입력\n",
      " 3번째 줄 입력\n",
      " 4번째 줄 입력\n",
      " 5번째 줄 입력\n",
      " 6번째 줄 입력\n",
      " 7번째 줄 입력\n",
      " 8번째 줄 입력\n",
      " 9번째 줄 입력\n",
      " 10번째 줄 입력\n",
      " "
     ]
    }
   ],
   "source": [
    "# 파일 내용 읽어오기\n",
    "f = open('new_text.txt', 'r')   # 1. 파일 열고, Read => r\n",
    "while 1 :\n",
    "    line = f.readline()\n",
    "    if not line :   # 문자열 없으면 탈출\n",
    "        break\n",
    "    print(line, end=' ')\n",
    "\n",
    "f.close()"
   ]
  },
  {
   "cell_type": "code",
   "execution_count": 350,
   "id": "994ded61",
   "metadata": {},
   "outputs": [
    {
     "name": "stdout",
     "output_type": "stream",
     "text": [
      "['1번째 줄 입력\\n', '2번째 줄 입력\\n', '3번째 줄 입력\\n', '4번째 줄 입력\\n', '5번째 줄 입력\\n', '6번째 줄 입력\\n', '7번째 줄 입력\\n', '8번째 줄 입력\\n', '9번째 줄 입력\\n', '10번째 줄 입력새로운 행이 추가 됩니다.새로운 행이 추가 됩니다. \\n', '새로운 행16이 추가 됩니다. \\n', '새로운 행17이 추가 됩니다. \\n', '새로운 행18이 추가 됩니다. \\n', '새로운 행19이 추가 됩니다. \\n', '새로운 행20이 추가 됩니다. \\n', '새로운 행16이 추가 됩니다. \\n', '새로운 행17이 추가 됩니다. \\n', '새로운 행18이 추가 됩니다. \\n', '새로운 행19이 추가 됩니다. \\n', '새로운 행20이 추가 됩니다. \\n']\n",
      "1번째 줄 입력\n",
      " 2번째 줄 입력\n",
      " 3번째 줄 입력\n",
      " 4번째 줄 입력\n",
      " 5번째 줄 입력\n",
      " 6번째 줄 입력\n",
      " 7번째 줄 입력\n",
      " 8번째 줄 입력\n",
      " 9번째 줄 입력\n",
      " 10번째 줄 입력새로운 행이 추가 됩니다.새로운 행이 추가 됩니다. \n",
      " 새로운 행16이 추가 됩니다. \n",
      " 새로운 행17이 추가 됩니다. \n",
      " 새로운 행18이 추가 됩니다. \n",
      " 새로운 행19이 추가 됩니다. \n",
      " 새로운 행20이 추가 됩니다. \n",
      " 새로운 행16이 추가 됩니다. \n",
      " 새로운 행17이 추가 됩니다. \n",
      " 새로운 행18이 추가 됩니다. \n",
      " 새로운 행19이 추가 됩니다. \n",
      " 새로운 행20이 추가 됩니다. \n",
      " "
     ]
    }
   ],
   "source": [
    "f = open('new_text.txt', 'r')\n",
    "lines = f.readlines()\n",
    "print(lines)\n",
    "for line in lines :\n",
    "    print(line, end=' ')\n",
    "f.close()"
   ]
  },
  {
   "cell_type": "code",
   "execution_count": 346,
   "id": "f5e1756d",
   "metadata": {},
   "outputs": [],
   "source": [
    "# append : 데이터 추가\n",
    "f = open('new_text.txt', 'a')\n",
    "f.write('새로운 행이 추가 됩니다. \\n')\n",
    "f.close()"
   ]
  },
  {
   "cell_type": "code",
   "execution_count": 349,
   "id": "18efa498",
   "metadata": {},
   "outputs": [],
   "source": [
    "# append : 데이터 추가\n",
    "f = open('new_text.txt', 'a')\n",
    "for i in range(16, 21) :\n",
    "    f.write(f'새로운 행{i}이 추가 됩니다. \\n')\n",
    "f.close()"
   ]
  },
  {
   "cell_type": "code",
   "execution_count": 351,
   "id": "e8e6cf87",
   "metadata": {},
   "outputs": [
    {
     "name": "stdout",
     "output_type": "stream",
     "text": [
      "['1번째 줄 입력\\n', '2번째 줄 입력\\n', '3번째 줄 입력\\n', '4번째 줄 입력\\n', '5번째 줄 입력\\n', '6번째 줄 입력\\n', '7번째 줄 입력\\n', '8번째 줄 입력\\n', '9번째 줄 입력\\n', '10번째 줄 입력새로운 행이 추가 됩니다.새로운 행이 추가 됩니다. \\n', '새로운 행16이 추가 됩니다. \\n', '새로운 행17이 추가 됩니다. \\n', '새로운 행18이 추가 됩니다. \\n', '새로운 행19이 추가 됩니다. \\n', '새로운 행20이 추가 됩니다. \\n', '새로운 행16이 추가 됩니다. \\n', '새로운 행17이 추가 됩니다. \\n', '새로운 행18이 추가 됩니다. \\n', '새로운 행19이 추가 됩니다. \\n', '새로운 행20이 추가 됩니다. \\n']\n"
     ]
    }
   ],
   "source": [
    "# close 생략 가능한 구현 => with\n",
    "with open('new_text.txt', 'r') as file :\n",
    "    lines = file.readlines()\n",
    "    print(lines)"
   ]
  },
  {
   "cell_type": "code",
   "execution_count": null,
   "id": "7581aa22",
   "metadata": {},
   "outputs": [],
   "source": [
    "# 예외처리 : 에러 발생 시에 비정상적인 종료 막기 위한 처리\n",
    "print(10/0)"
   ]
  },
  {
   "cell_type": "code",
   "execution_count": null,
   "id": "0d121383",
   "metadata": {},
   "outputs": [],
   "source": [
    "list_t = [1,2,3]\n",
    "print(list_t[-4])"
   ]
  },
  {
   "cell_type": "code",
   "execution_count": null,
   "id": "2d9682a5",
   "metadata": {},
   "outputs": [],
   "source": [
    "userName"
   ]
  },
  {
   "cell_type": "code",
   "execution_count": 352,
   "id": "83e8d53c",
   "metadata": {},
   "outputs": [],
   "source": [
    "dict_t = {\n",
    "    'name' : 'SON'\n",
    "}"
   ]
  },
  {
   "cell_type": "code",
   "execution_count": null,
   "id": "101f7c68",
   "metadata": {},
   "outputs": [],
   "source": [
    "dict_t['age']"
   ]
  },
  {
   "cell_type": "code",
   "execution_count": null,
   "id": "3819293a",
   "metadata": {},
   "outputs": [],
   "source": [
    "f = open('new_text1.txt', 'r')\n",
    "f.close()"
   ]
  },
  {
   "cell_type": "code",
   "execution_count": null,
   "id": "f5cc800a",
   "metadata": {},
   "outputs": [],
   "source": [
    "add()"
   ]
  },
  {
   "cell_type": "code",
   "execution_count": 353,
   "id": "f85871ae",
   "metadata": {},
   "outputs": [
    {
     "name": "stdout",
     "output_type": "stream",
     "text": [
      "프로그램을 종료합니다.\n"
     ]
    }
   ],
   "source": [
    "try :\n",
    "    print(10/0)     # 에러 예상 위치\n",
    "except :\n",
    "    pass    # 파이썬은 들여쓰기하고 꼭 뭔가를 써야 하는데 쓸 게 없을 때\n",
    "\n",
    "print('프로그램을 종료합니다.')"
   ]
  },
  {
   "cell_type": "code",
   "execution_count": 355,
   "id": "3dc3f0fb",
   "metadata": {},
   "outputs": [
    {
     "name": "stdout",
     "output_type": "stream",
     "text": [
      "2.0\n",
      "프로그램을 종료합니다.\n"
     ]
    }
   ],
   "source": [
    "try :\n",
    "    print(10/5)     # 에러 예상 위치\n",
    "except :\n",
    "    print('에러가 발생했습니다. 에러에 대한 처리를 합니다.')\n",
    "print('프로그램을 종료합니다.')\n",
    "# 에러 => 논리적 오류\n",
    "# 새로운 에러 타입 커스텀 가능"
   ]
  },
  {
   "cell_type": "code",
   "execution_count": null,
   "id": "82b2ee4a",
   "metadata": {},
   "outputs": [
    {
     "name": "stdout",
     "output_type": "stream",
     "text": [
      "5.0\n",
      "('team', 'TO')\n",
      "정의되지 않은 식별자입니다.\n",
      "name 'uname' is not defined\n"
     ]
    }
   ],
   "source": [
    "try :\n",
    "    print(10/2)\n",
    "    print(list_t[1])       # <=======\n",
    "    print(uname)\n",
    "except ZeroDivisionError as e :\n",
    "    print('0으로 나누는 연산은 불가능합니다.')\n",
    "    print(e)\n",
    "except NameError as e :\n",
    "    # print('정의되지 않은 식별자입니다.')\n",
    "    print('에러가 발생했습니다.')\n",
    "    print(e)\n",
    "# except IndexError as e :\n",
    "#     print('리스트의 index 범위에서 벗어납니다.')\n",
    "#     print(e)\n",
    "except :\n",
    "    print('에러 발생!!!')"
   ]
  },
  {
   "cell_type": "code",
   "execution_count": null,
   "id": "1df2eac7",
   "metadata": {},
   "outputs": [
    {
     "name": "stdout",
     "output_type": "stream",
     "text": [
      "hello\n",
      "5.0\n",
      "!!!!!\n"
     ]
    }
   ],
   "source": [
    "# try : except : finally : => 에러 발생 여부와 상관 없이 실행되어야 하는 블록\n",
    "try :\n",
    "    print('hello')\n",
    "    print(10/2)\n",
    "except :\n",
    "    print('error!!')\n",
    "finally :\n",
    "    print('!!!!!')\n"
   ]
  },
  {
   "cell_type": "code",
   "execution_count": null,
   "id": "0888f534",
   "metadata": {},
   "outputs": [
    {
     "name": "stdout",
     "output_type": "stream",
     "text": [
      "숫자 형식으로 입력해주세요!!!!!!\n"
     ]
    }
   ],
   "source": [
    "try :\n",
    "    age = int(input('나이를 입력하세요'))\n",
    "except :\n",
    "    print('숫자 형식으로 입력해주세요!!!!!!')\n",
    "else :\n",
    "    if age > 18 :\n",
    "        print('입장')\n",
    "    else :\n",
    "        print('불가')"
   ]
  },
  {
   "cell_type": "code",
   "execution_count": 4,
   "id": "c6ec04de",
   "metadata": {},
   "outputs": [],
   "source": [
    "# 사용자 정의 예외 타입 정의\n",
    "# 논리적인 오류 발생 => 예외로 처리\n",
    "# age => 음수, 500 : 논리적 오류\n",
    "class MyError(Exception) :\n",
    "    pass"
   ]
  },
  {
   "cell_type": "code",
   "execution_count": null,
   "id": "b1457ed8",
   "metadata": {},
   "outputs": [],
   "source": [
    "# 에러 강제 발생\n",
    "raise MyError()"
   ]
  },
  {
   "cell_type": "code",
   "execution_count": null,
   "id": "55ee688b",
   "metadata": {},
   "outputs": [
    {
     "name": "stdout",
     "output_type": "stream",
     "text": [
      "나이의 입력 범위는 1~200 까지입니다.\n",
      " 다시 입력하세요!\n"
     ]
    }
   ],
   "source": [
    "try :\n",
    "    age = int(input('나이를 입력하세요!'))\n",
    "    if age < 1 or age > 200 :\n",
    "        raise MyError()\n",
    "except MyError :\n",
    "    print('나이의 입력 범위는 1~200 까지입니다.\\n 다시 입력하세요!')\n",
    "except :\n",
    "    print('다시 입력하세요!')\n",
    "else :\n",
    "    print(age)"
   ]
  }
 ],
 "metadata": {
  "kernelspec": {
   "display_name": ".venv",
   "language": "python",
   "name": "python3"
  },
  "language_info": {
   "codemirror_mode": {
    "name": "ipython",
    "version": 3
   },
   "file_extension": ".py",
   "mimetype": "text/x-python",
   "name": "python",
   "nbconvert_exporter": "python",
   "pygments_lexer": "ipython3",
   "version": "3.13.4"
  }
 },
 "nbformat": 4,
 "nbformat_minor": 5
}
